{
 "cells": [
  {
   "cell_type": "markdown",
   "metadata": {},
   "source": [
    "\n",
    "Source\n",
    "https://www.nbim.no/en/the-fund/holdings/holdings-as-at-31.12.2019/?fullsize=true\n",
    "    \n",
    "@todo map company names to symbols"
   ]
  },
  {
   "cell_type": "code",
   "execution_count": 89,
   "metadata": {},
   "outputs": [],
   "source": [
    "import pandas as pd \n",
    "df =pd.read_excel(\"EQ_2019_Industry.xlsx\")"
   ]
  },
  {
   "cell_type": "code",
   "execution_count": 90,
   "metadata": {},
   "outputs": [
    {
     "data": {
      "text/plain": [
       "(9202, 9)"
      ]
     },
     "execution_count": 90,
     "metadata": {},
     "output_type": "execute_result"
    }
   ],
   "source": [
    "df.shape\n"
   ]
  },
  {
   "cell_type": "code",
   "execution_count": 77,
   "metadata": {},
   "outputs": [
    {
     "data": {
      "text/plain": [
       "Index(['Industry', 'Region', 'Country', 'Name', 'Market Value(NOK)',\n",
       "       'Market Value(USD)', 'Voting', 'Ownership', 'Incorporation Country'],\n",
       "      dtype='object')"
      ]
     },
     "execution_count": 77,
     "metadata": {},
     "output_type": "execute_result"
    }
   ],
   "source": [
    "df.columns"
   ]
  },
  {
   "cell_type": "code",
   "execution_count": 78,
   "metadata": {},
   "outputs": [
    {
     "data": {
      "text/plain": [
       "array(['Basic Materials', 'Consumer Goods', 'Consumer Services',\n",
       "       'Financials', 'Health Care', 'Industrials', 'Oil & Gas',\n",
       "       'Technology', 'Telecommunications', 'Utilities'], dtype=object)"
      ]
     },
     "execution_count": 78,
     "metadata": {},
     "output_type": "execute_result"
    }
   ],
   "source": [
    "df[\"Industry\"].unique()\n"
   ]
  },
  {
   "cell_type": "code",
   "execution_count": 79,
   "metadata": {},
   "outputs": [],
   "source": [
    "tech = df[(df.Industry == \"Technology\") | (df.Industry == \"Telecommunications\") ].reset_index()"
   ]
  },
  {
   "cell_type": "code",
   "execution_count": 80,
   "metadata": {},
   "outputs": [
    {
     "data": {
      "text/html": [
       "<div>\n",
       "<style scoped>\n",
       "    .dataframe tbody tr th:only-of-type {\n",
       "        vertical-align: middle;\n",
       "    }\n",
       "\n",
       "    .dataframe tbody tr th {\n",
       "        vertical-align: top;\n",
       "    }\n",
       "\n",
       "    .dataframe thead th {\n",
       "        text-align: right;\n",
       "    }\n",
       "</style>\n",
       "<table border=\"1\" class=\"dataframe\">\n",
       "  <thead>\n",
       "    <tr style=\"text-align: right;\">\n",
       "      <th></th>\n",
       "      <th>index</th>\n",
       "      <th>Industry</th>\n",
       "      <th>Region</th>\n",
       "      <th>Country</th>\n",
       "      <th>Name</th>\n",
       "      <th>Market Value(NOK)</th>\n",
       "      <th>Market Value(USD)</th>\n",
       "      <th>Voting</th>\n",
       "      <th>Ownership</th>\n",
       "      <th>Incorporation Country</th>\n",
       "    </tr>\n",
       "  </thead>\n",
       "  <tbody>\n",
       "    <tr>\n",
       "      <th>0</th>\n",
       "      <td>7944</td>\n",
       "      <td>Technology</td>\n",
       "      <td>Asia</td>\n",
       "      <td>China</td>\n",
       "      <td>21Vianet Group Inc</td>\n",
       "      <td>104386646</td>\n",
       "      <td>11879263</td>\n",
       "      <td>0.44</td>\n",
       "      <td>1.46</td>\n",
       "      <td>Cayman Islands</td>\n",
       "    </tr>\n",
       "    <tr>\n",
       "      <th>1</th>\n",
       "      <td>7945</td>\n",
       "      <td>Technology</td>\n",
       "      <td>North America</td>\n",
       "      <td>United States</td>\n",
       "      <td>3D Systems Corp</td>\n",
       "      <td>38075448</td>\n",
       "      <td>4333009</td>\n",
       "      <td>0.42</td>\n",
       "      <td>0.42</td>\n",
       "      <td>United States</td>\n",
       "    </tr>\n",
       "    <tr>\n",
       "      <th>2</th>\n",
       "      <td>7946</td>\n",
       "      <td>Technology</td>\n",
       "      <td>Europe</td>\n",
       "      <td>Switzerland</td>\n",
       "      <td>ams AG</td>\n",
       "      <td>722270408</td>\n",
       "      <td>82194805</td>\n",
       "      <td>2.40</td>\n",
       "      <td>2.40</td>\n",
       "      <td>Austria</td>\n",
       "    </tr>\n",
       "    <tr>\n",
       "      <th>3</th>\n",
       "      <td>7947</td>\n",
       "      <td>Technology</td>\n",
       "      <td>Europe</td>\n",
       "      <td>Poland</td>\n",
       "      <td>AB SA</td>\n",
       "      <td>37713</td>\n",
       "      <td>4292</td>\n",
       "      <td>NaN</td>\n",
       "      <td>0.00</td>\n",
       "      <td>Poland</td>\n",
       "    </tr>\n",
       "    <tr>\n",
       "      <th>4</th>\n",
       "      <td>7948</td>\n",
       "      <td>Technology</td>\n",
       "      <td>North America</td>\n",
       "      <td>United States</td>\n",
       "      <td>Acacia Communications Inc</td>\n",
       "      <td>302904127</td>\n",
       "      <td>34470671</td>\n",
       "      <td>1.23</td>\n",
       "      <td>1.23</td>\n",
       "      <td>United States</td>\n",
       "    </tr>\n",
       "    <tr>\n",
       "      <th>...</th>\n",
       "      <td>...</td>\n",
       "      <td>...</td>\n",
       "      <td>...</td>\n",
       "      <td>...</td>\n",
       "      <td>...</td>\n",
       "      <td>...</td>\n",
       "      <td>...</td>\n",
       "      <td>...</td>\n",
       "      <td>...</td>\n",
       "      <td>...</td>\n",
       "    </tr>\n",
       "    <tr>\n",
       "      <th>995</th>\n",
       "      <td>8939</td>\n",
       "      <td>Telecommunications</td>\n",
       "      <td>Europe</td>\n",
       "      <td>United Kingdom</td>\n",
       "      <td>Vodafone Group PLC</td>\n",
       "      <td>13081081379</td>\n",
       "      <td>1488634891</td>\n",
       "      <td>2.86</td>\n",
       "      <td>2.86</td>\n",
       "      <td>United Kingdom</td>\n",
       "    </tr>\n",
       "    <tr>\n",
       "      <th>996</th>\n",
       "      <td>8940</td>\n",
       "      <td>Telecommunications</td>\n",
       "      <td>Asia</td>\n",
       "      <td>India</td>\n",
       "      <td>Vodafone Idea Ltd</td>\n",
       "      <td>120279882</td>\n",
       "      <td>13687923</td>\n",
       "      <td>0.55</td>\n",
       "      <td>0.55</td>\n",
       "      <td>India</td>\n",
       "    </tr>\n",
       "    <tr>\n",
       "      <th>997</th>\n",
       "      <td>8941</td>\n",
       "      <td>Telecommunications</td>\n",
       "      <td>North America</td>\n",
       "      <td>United States</td>\n",
       "      <td>Vonage Holdings Corp</td>\n",
       "      <td>179818722</td>\n",
       "      <td>20463478</td>\n",
       "      <td>1.14</td>\n",
       "      <td>1.14</td>\n",
       "      <td>United States</td>\n",
       "    </tr>\n",
       "    <tr>\n",
       "      <th>998</th>\n",
       "      <td>8942</td>\n",
       "      <td>Telecommunications</td>\n",
       "      <td>Asia</td>\n",
       "      <td>Indonesia</td>\n",
       "      <td>XL Axiata Tbk PT</td>\n",
       "      <td>319880567</td>\n",
       "      <td>36402600</td>\n",
       "      <td>1.50</td>\n",
       "      <td>1.50</td>\n",
       "      <td>Indonesia</td>\n",
       "    </tr>\n",
       "    <tr>\n",
       "      <th>999</th>\n",
       "      <td>8943</td>\n",
       "      <td>Telecommunications</td>\n",
       "      <td>North America</td>\n",
       "      <td>United States</td>\n",
       "      <td>Zayo Group Holdings Inc</td>\n",
       "      <td>563133831</td>\n",
       "      <td>64084967</td>\n",
       "      <td>0.78</td>\n",
       "      <td>0.78</td>\n",
       "      <td>United States</td>\n",
       "    </tr>\n",
       "  </tbody>\n",
       "</table>\n",
       "<p>1000 rows × 10 columns</p>\n",
       "</div>"
      ],
      "text/plain": [
       "     index            Industry         Region         Country  \\\n",
       "0     7944          Technology           Asia           China   \n",
       "1     7945          Technology  North America   United States   \n",
       "2     7946          Technology         Europe     Switzerland   \n",
       "3     7947          Technology         Europe          Poland   \n",
       "4     7948          Technology  North America   United States   \n",
       "..     ...                 ...            ...             ...   \n",
       "995   8939  Telecommunications         Europe  United Kingdom   \n",
       "996   8940  Telecommunications           Asia           India   \n",
       "997   8941  Telecommunications  North America   United States   \n",
       "998   8942  Telecommunications           Asia       Indonesia   \n",
       "999   8943  Telecommunications  North America   United States   \n",
       "\n",
       "                          Name  Market Value(NOK)  Market Value(USD)  Voting  \\\n",
       "0           21Vianet Group Inc          104386646           11879263    0.44   \n",
       "1              3D Systems Corp           38075448            4333009    0.42   \n",
       "2                       ams AG          722270408           82194805    2.40   \n",
       "3                        AB SA              37713               4292     NaN   \n",
       "4    Acacia Communications Inc          302904127           34470671    1.23   \n",
       "..                         ...                ...                ...     ...   \n",
       "995         Vodafone Group PLC        13081081379         1488634891    2.86   \n",
       "996          Vodafone Idea Ltd          120279882           13687923    0.55   \n",
       "997       Vonage Holdings Corp          179818722           20463478    1.14   \n",
       "998           XL Axiata Tbk PT          319880567           36402600    1.50   \n",
       "999    Zayo Group Holdings Inc          563133831           64084967    0.78   \n",
       "\n",
       "     Ownership Incorporation Country  \n",
       "0         1.46        Cayman Islands  \n",
       "1         0.42         United States  \n",
       "2         2.40               Austria  \n",
       "3         0.00                Poland  \n",
       "4         1.23         United States  \n",
       "..         ...                   ...  \n",
       "995       2.86        United Kingdom  \n",
       "996       0.55                 India  \n",
       "997       1.14         United States  \n",
       "998       1.50             Indonesia  \n",
       "999       0.78         United States  \n",
       "\n",
       "[1000 rows x 10 columns]"
      ]
     },
     "execution_count": 80,
     "metadata": {},
     "output_type": "execute_result"
    }
   ],
   "source": [
    "tech"
   ]
  },
  {
   "cell_type": "code",
   "execution_count": 88,
   "metadata": {},
   "outputs": [
    {
     "name": "stdout",
     "output_type": "stream",
     "text": [
      "Country         Country       \n",
      "Australia       Australia          22\n",
      "Austria         Austria             1\n",
      "Bangladesh      Bangladesh          2\n",
      "Belgium         Belgium             4\n",
      "Brazil          Brazil              4\n",
      "Canada          Canada             11\n",
      "Chile           Chile               1\n",
      "China           China              86\n",
      "Croatia         Croatia             1\n",
      "Denmark         Denmark             2\n",
      "Egypt           Egypt               1\n",
      "Finland         Finland             5\n",
      "France          France             28\n",
      "Germany         Germany            26\n",
      "Greece          Greece              2\n",
      "Hong Kong       Hong Kong          15\n",
      "Hungary         Hungary             1\n",
      "India           India              25\n",
      "Indonesia       Indonesia           4\n",
      "Israel          Israel             21\n",
      "Italy           Italy              12\n",
      "Japan           Japan             156\n",
      "Kenya           Kenya               1\n",
      "Kuwait          Kuwait              2\n",
      "Latvia          Latvia              1\n",
      "Malaysia        Malaysia           20\n",
      "Mexico          Mexico              1\n",
      "Morocco         Morocco             4\n",
      "Netherlands     Netherlands         7\n",
      "New Zealand     New Zealand         4\n",
      "Nigeria         Nigeria             1\n",
      "Oman            Oman                1\n",
      "Poland          Poland             17\n",
      "Portugal        Portugal            2\n",
      "Qatar           Qatar               1\n",
      "Romania         Romania             1\n",
      "Russia          Russia              2\n",
      "Singapore       Singapore           6\n",
      "Slovenia        Slovenia            1\n",
      "South Africa    South Africa        5\n",
      "South Korea     South Korea        51\n",
      "Spain           Spain               7\n",
      "Sri Lanka       Sri Lanka           1\n",
      "Sweden          Sweden             11\n",
      "Switzerland     Switzerland        11\n",
      "Taiwan          Taiwan            123\n",
      "Thailand        Thailand            9\n",
      "Tunisia         Tunisia             1\n",
      "Turkey          Turkey              7\n",
      "United Kingdom  United Kingdom     24\n",
      "United States   United States     246\n",
      "Vietnam         Vietnam             2\n",
      "Name: Country, dtype: int64\n"
     ]
    }
   ],
   "source": [
    "print(tech.groupby('Country')['Country'].value_counts())"
   ]
  },
  {
   "cell_type": "code",
   "execution_count": null,
   "metadata": {},
   "outputs": [],
   "source": []
  }
 ],
 "metadata": {
  "kernelspec": {
   "display_name": "Python 3",
   "language": "python",
   "name": "python3"
  },
  "language_info": {
   "codemirror_mode": {
    "name": "ipython",
    "version": 3
   },
   "file_extension": ".py",
   "mimetype": "text/x-python",
   "name": "python",
   "nbconvert_exporter": "python",
   "pygments_lexer": "ipython3",
   "version": "3.6.9"
  }
 },
 "nbformat": 4,
 "nbformat_minor": 2
}
